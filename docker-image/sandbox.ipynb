{
 "cells": [
  {
   "cell_type": "code",
   "execution_count": 4,
   "metadata": {},
   "outputs": [],
   "source": [
    "import os\n",
    "import torch\n",
    "from PIL import Image, ImageDraw\n",
    "import boto3\n",
    "import json\n",
    "\n",
    "os.environ[\"FUNCTION_DIR\"] = \"app\"\n",
    "base_path = os.environ[\"FUNCTION_DIR\"]\n",
    "model_class_path = f\"{base_path}/yolov5\"\n",
    "model_weights_path = f\"{base_path}/model-weights/yolo.pt\"\n",
    "data_path = f\"{base_path}/images\""
   ]
  },
  {
   "cell_type": "code",
   "execution_count": 5,
   "metadata": {},
   "outputs": [
    {
     "name": "stderr",
     "output_type": "stream",
     "text": [
      "YOLOv5  2023-2-22 Python-3.8.16 torch-1.13.1+cpu CPU\n",
      "\n",
      "Fusing layers... \n",
      "Model summary: 157 layers, 7012822 parameters, 0 gradients, 15.8 GFLOPs\n",
      "Adding AutoShape... \n"
     ]
    },
    {
     "name": "stdout",
     "output_type": "stream",
     "text": [
      "0    (0, 628.0381469726562, 693.8975219726562, 22.9...\n",
      "dtype: object\n"
     ]
    }
   ],
   "source": [
    "plate_detection_model = torch.hub.load(model_class_path, 'custom', model_weights_path, source=\"local\")\n",
    "img0 = Image.open(f\"{data_path}/monitoring_system_115.JPG\")\n",
    "results = plate_detection_model(img0)\n",
    "results = results.pandas().xyxy[0]\n",
    "annotations = results.apply(lambda row: (row[\"class\"], row[\"xmin\"], row[\"xmax\"], row[\"ymin\"], row[\"ymax\"]), axis=1)\n",
    "print(annotations)"
   ]
  },
  {
   "cell_type": "code",
   "execution_count": null,
   "metadata": {},
   "outputs": [],
   "source": [
    "bucket = \"ahead-aws-lpr\"\n",
    "image_key = \"lp-images/monitoring_system_115.JPG\"\n",
    "\n",
    "s3 = boto3.client('s3')\n",
    "with open('test.jpg', 'wb') as f:\n",
    "    s3.download_fileobj(bucket, image_key, f)\n",
    "# s3_response_object = s3.get_object(Bucket=bucket, Key=image_key)\n",
    "# object_content = s3_response_object['Body'].read()"
   ]
  },
  {
   "cell_type": "code",
   "execution_count": null,
   "metadata": {},
   "outputs": [],
   "source": []
  }
 ],
 "metadata": {
  "kernelspec": {
   "display_name": "ahead-aws",
   "language": "python",
   "name": "python3"
  },
  "language_info": {
   "codemirror_mode": {
    "name": "ipython",
    "version": 3
   },
   "file_extension": ".py",
   "mimetype": "text/x-python",
   "name": "python",
   "nbconvert_exporter": "python",
   "pygments_lexer": "ipython3",
   "version": "3.8.16"
  },
  "orig_nbformat": 4,
  "vscode": {
   "interpreter": {
    "hash": "5390c3cda5b084db73785899c56f33ea5397c264d91d0ef3e43bf6c1bcce609b"
   }
  }
 },
 "nbformat": 4,
 "nbformat_minor": 2
}
